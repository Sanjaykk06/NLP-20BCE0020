{
 "cells": [
  {
   "cell_type": "code",
   "execution_count": null,
   "id": "82f3aea7",
   "metadata": {},
   "outputs": [],
   "source": [
    "#20BCE0020 SANJAY K"
   ]
  },
  {
   "cell_type": "code",
   "execution_count": 2,
   "id": "5944a0d9",
   "metadata": {},
   "outputs": [],
   "source": [
    "from sklearn.feature_extraction.text import CountVectorizer\n",
    "vect = CountVectorizer(binary=True)"
   ]
  },
  {
   "cell_type": "code",
   "execution_count": 3,
   "id": "a2758066",
   "metadata": {},
   "outputs": [],
   "source": [
    "#creating a corpus with a full article of the author"
   ]
  },
  {
   "cell_type": "code",
   "execution_count": 4,
   "id": "d051ad32",
   "metadata": {},
   "outputs": [],
   "source": [
    "corpus=[\"The world’s greatest cities are brutal, unsentimental places, precisely the reason why so many of us fall so irrevocably under their spell. In its worst hour, this bond can curdle into bitter complaints of unrequited affection and everyday torment. “The subway doesn’t work, trash is overflowing and it’s too crowded; this is over.” Let me assure you that right now someone somewhere is uttering these words about your dream metropolis, New York, Rome, Rio De Janeiro. Like an unrepentant cad, the city laughs in their face, “Go on… live without me.” Wresting long-term connections comes with the occasional pang of nostalgic regret. Those who can’t escape their love of cities are destined to keep replaying that first flush of romance, that moment when a city went from a destination to home.A traveller’s sense of a city is always ephemeral. Not that this discredits his or her insights but to genuinely get under the skin of a modern metropolis, we look towards its people, leaning against its sidewalks, reading in café nooks or flirting in nightclubs. One of the best descriptions of city love I’ve read is in a wonderful book on London with a rather circuitous moniker: Londoners: The Days And Nights Of London Now—As Told By Those Who Love It, Hate It, Live It, Left It, And Long For It. In it writer Craig Taylor, who lived in the British capital for years, recalls relocating to Toronto and fielding that pesky question, “How do you feel about London?” He had a complicated answer, “It wasn’t a two-way relationship. It was no use thinking this place loses any sleep over me.”That’s the messy conundrum of a great city, as experienced by its besotted paramours, some of whom can’t kick the habit even if they tried. Travellers attempting to understand an urban jungle are better off trying to study its undercurrents. In September’s ode to five global cities, NGTI attempts to get a measure of their pulse. A writer dives into Belfast’s turbulent past to fully grasp its present-day vibrancy, another digs into the back alleys of Kuala Lumpur’s inimitable heritage food joints. We profile New York’s Hudson Yards, a gaudy spectacle that has divided New Yorkers, and chronicle the rise of Bauhaus in Tel Aviv. Finally we unpack Finland’s oldest city Turku.A city is fertile land for dramatic histories, new narratives and moving stories. Travellers, never immune to these irresistible tales, are bound to pass through its golden gates, over and over.\"]"
   ]
  },
  {
   "cell_type": "code",
   "execution_count": 5,
   "id": "5102648e",
   "metadata": {},
   "outputs": [
    {
     "data": {
      "text/plain": [
       "CountVectorizer(binary=True)"
      ]
     },
     "execution_count": 5,
     "metadata": {},
     "output_type": "execute_result"
    }
   ],
   "source": [
    "vect.fit(corpus)"
   ]
  },
  {
   "cell_type": "code",
   "execution_count": 6,
   "id": "6ca406a2",
   "metadata": {},
   "outputs": [],
   "source": [
    "vocab= vect.vocabulary_"
   ]
  },
  {
   "cell_type": "code",
   "execution_count": 7,
   "id": "63ce23fb",
   "metadata": {},
   "outputs": [],
   "source": [
    "#comparing the first paragraph from two different nat geo traveller and comparing it"
   ]
  },
  {
   "cell_type": "code",
   "execution_count": 8,
   "id": "8ea2023d",
   "metadata": {},
   "outputs": [
    {
     "name": "stdout",
     "output_type": "stream",
     "text": [
      "[[0.50148589]]\n"
     ]
    }
   ],
   "source": [
    "#Comparing with pooja naik traveller\n",
    "from sklearn.metrics.pairwise import cosine_similarity\n",
    "print(cosine_similarity(vect.transform([\"Bright, colourful lanterns are strung from timber-frame structures that flank both sides of the alleyways, and a canal zips through the town’s centre. Visiting Hoi An Ancient Town feels like partaking in the Festival of Lights, only on a daily basis. Before it became a tourist magnet in recent years, the quarter in Quang Nam province was once a popular trading port for Japanese, Chinese, Portuguese, and Dutch merchants dealing in silk, ceramics, and spices between the 15th and the 19th centuries. Today, the UNESCO World Heritage Site is a nod to a well-preserved mashup of cultures—local and foreign—which is evident in ornate Cantonese temples, Dutch and French colonial homes, wooden shop houses, and the 17th century-built Japanese Bridge (etched on notes of VND 20,000). Cash in on the opportunity to get custom-made ao dai—traditional Vietnamese apparel—from any of the local tailor shops in only 24 hours or hunker down on tiny red stools and sip on fresh brews by street-corner stalls, here is no wrong choice here. While daytime is charming, an evening stroll through the lanes is downright romantic.\"]).toarray(),vect.transform([\"It’s 5.15 a.m. on a Friday and I have another 15 minutes to go before my alarm sets off. I lay in company of quiet contemplation that entices me to stay snug in bed, but tenacity slowly coaxes me awake. It is my second day at Atmantan, a wellness retreat overlooking the Mulshi Lake near Pune. The sun is still shy outside and the November air stings my face as I stroll past mango trees and garden-surrounding accommodations leading to the Kriya Pavillion, where I sign up for my first morning activity: netra shuddhi, an Ayurvedic practice of cleansing the eyes by rapidly blinking into two tiny cups filled with water to the brim. Arguably, it is believed that the exercise helps improve vision, but for starters, it jolts me wide awake. The instructor advises me not to peek at my phone screen for the next half an hour. For a change, I manage to accomplish a micro digital detox, courtesy of no network with the exception of WiFi connectivity in my room and the reception area.\"]).toarray()))"
   ]
  },
  {
   "cell_type": "code",
   "execution_count": 9,
   "id": "69a776fc",
   "metadata": {},
   "outputs": [
    {
     "name": "stdout",
     "output_type": "stream",
     "text": [
      "[[0.6103001]]\n"
     ]
    }
   ],
   "source": [
    "#Comparing with shubi arun traveller\n",
    "from sklearn.metrics.pairwise import cosine_similarity\n",
    "print(cosine_similarity(vect.transform([\"Sometime in August last year, I remember walking into the living room of my house to find my mother looking out of the window, a pained expression on her face. She turned to me and said, “How are we going to shift to Bombay? I’m scared”.My dad was changing companies and in a couple of weeks we’d be leaving London. There was a lot of excitement at home about returning to India but as the date of our departure drew closer, anticipation morphed into anxiety.I was in college in Boston when the pandemic set in and decided to complete my semester before flying back to London. With classes, parties and graduation all made virtual, the overriding emotion in college was one of great frustration. But at home, it was one of paranoia; isolation was embraced and interaction was nulled.On my return, I was immediately sent to my room to quarantine for two weeks. It was my parents’ 25th anniversary the next day but—like the rest of my family—I was a part of the celebrations through Zoom. When I stepped out after two weeks, I was struck by just how differently my parents now lived. Food deliveries and people from the outside weren’t allowed in, groceries would be left untouched for 24 hours, then wiped thoroughly before being used, and every sneeze was met with a glare.\"]).toarray(),vect.transform([\"We moved into an apartment in a hotel in Santa Cruz after completing our quarantine period and the search for a permanent home picked up. The pandemic influenced our requirements; with work from home being the norm for the foreseeable future, my father was okay with a longer commute to work if it meant a more comfortable location for our home. There was also a preference for a furnished apartment; going out to buy furniture and interacting with carpenters would only further physical interaction.I treated these apartment viewings as sightseeing opportunities and hungrily tried to absorb Bombay through them. Having lived in inland cities for the majority of my life, I was particularly fascinated by the sea. Each time we’d travel on the Sea Link, I’d roll down the windows, turn up the music and lean back into my seat. The wind, the sea and the skyline gave me this incredible adrenaline rush. I’d lost all sense of place cooped up in the hotel, but the Sea Link gave me a sense of belonging. A feeling of pride that this was a city I could call home.\"]).toarray()))"
   ]
  },
  {
   "cell_type": "code",
   "execution_count": null,
   "id": "a3b2a2dd",
   "metadata": {},
   "outputs": [],
   "source": []
  }
 ],
 "metadata": {
  "kernelspec": {
   "display_name": "Python 3 (ipykernel)",
   "language": "python",
   "name": "python3"
  },
  "language_info": {
   "codemirror_mode": {
    "name": "ipython",
    "version": 3
   },
   "file_extension": ".py",
   "mimetype": "text/x-python",
   "name": "python",
   "nbconvert_exporter": "python",
   "pygments_lexer": "ipython3",
   "version": "3.9.12"
  }
 },
 "nbformat": 4,
 "nbformat_minor": 5
}
