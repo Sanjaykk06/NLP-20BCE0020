{
 "cells": [
  {
   "cell_type": "code",
   "execution_count": null,
   "id": "27790c86",
   "metadata": {},
   "outputs": [],
   "source": [
    "#20BCE0020 SANJAY K"
   ]
  },
  {
   "cell_type": "code",
   "execution_count": 1,
   "id": "a5a16b7a",
   "metadata": {},
   "outputs": [],
   "source": [
    "import nltk"
   ]
  },
  {
   "cell_type": "code",
   "execution_count": 2,
   "id": "4b2106fb",
   "metadata": {},
   "outputs": [
    {
     "data": {
      "text/plain": [
       "FreqDist({'and': 7, 'to': 4, 'of': 3, 'LinkedIn': 2, 'is': 2, 'the': 2, 'post': 2, 'from': 2, 'members': 2, 'has': 2, ...})"
      ]
     },
     "execution_count": 2,
     "metadata": {},
     "output_type": "execute_result"
    }
   ],
   "source": [
    " # FREQUENCY DISTRIBUTION\n",
    "text1='LinkedIn (/lɪŋktˈɪn/) is an American business and employment-oriented online service that operates via websites and mobile apps. Launched on May 5, 2003,[5] the platform is primarily used for professional networking and career development, and allows job seekers to post their CVs and employers to post jobs. From 2015 most of the companys revenue came from selling access to information about its members to recruiters and sales professionals.[6] Since December 2016, it has been a wholly owned subsidiary of Microsoft. As of February 2022, LinkedIn has 830+ million registered members from over 200 countries and territories'\n",
    "fd=nltk.FreqDist(text1.split())\n",
    "fd"
   ]
  },
  {
   "cell_type": "code",
   "execution_count": 3,
   "id": "0d27db4d",
   "metadata": {},
   "outputs": [
    {
     "data": {
      "text/plain": [
       "FreqDist({'post': 2, 'from': 2, 'that': 1, 'used': 1, 'From': 1, '2015': 1, 'most': 1, 'came': 1, 'been': 1, '830+': 1, ...})"
      ]
     },
     "execution_count": 3,
     "metadata": {},
     "output_type": "execute_result"
    }
   ],
   "source": [
    "# CONDITIONAL FREQUENCY DISTRIBUTION\n",
    "from nltk.probability import ConditionalFreqDist\n",
    "cfd=ConditionalFreqDist((len(word),word) for word in text1.split())\n",
    "cfd[4]\n",
    "\n",
    "\n"
   ]
  },
  {
   "cell_type": "code",
   "execution_count": 4,
   "id": "f46d556b",
   "metadata": {},
   "outputs": [],
   "source": [
    "# to with inaugural\n",
    "from nltk.corpus import inaugural"
   ]
  },
  {
   "cell_type": "code",
   "execution_count": 5,
   "id": "a6a78d91",
   "metadata": {},
   "outputs": [
    {
     "data": {
      "text/plain": [
       "FreqDist({'must': 18, 'have': 17, 'with': 14, 'that': 12, 'what': 8, 'from': 8, 'time': 7, 'will': 7, 'this': 6, 'when': 6, ...})"
      ]
     },
     "execution_count": 5,
     "metadata": {},
     "output_type": "execute_result"
    }
   ],
   "source": [
    "from nltk.probability import ConditionalFreqDist\n",
    "text2=inaugural.words(fileids='1993-Clinton.txt')\n",
    "cfd=ConditionalFreqDist((len(word),word) for word in text2)\n",
    "cfd[4]\n"
   ]
  },
  {
   "cell_type": "code",
   "execution_count": null,
   "id": "ab3334ca",
   "metadata": {},
   "outputs": [],
   "source": []
  },
  {
   "cell_type": "code",
   "execution_count": 6,
   "id": "3dff66c7",
   "metadata": {},
   "outputs": [
    {
     "ename": "SyntaxError",
     "evalue": "invalid syntax (3882787857.py, line 2)",
     "output_type": "error",
     "traceback": [
      "\u001b[1;36m  Input \u001b[1;32mIn [6]\u001b[1;36m\u001b[0m\n\u001b[1;33m    pip install jieba\u001b[0m\n\u001b[1;37m        ^\u001b[0m\n\u001b[1;31mSyntaxError\u001b[0m\u001b[1;31m:\u001b[0m invalid syntax\n"
     ]
    }
   ],
   "source": [
    "# CHINESE SEGMENTATION USING JIEBA\n",
    "pip install jieba"
   ]
  },
  {
   "cell_type": "code",
   "execution_count": null,
   "id": "f4443d1e",
   "metadata": {},
   "outputs": [],
   "source": [
    "import jieba\n",
    "seg=jieba.cut(\"奶抱力回原、安果皮美各彩讀黑言許固長比去共，許像呢貓錯子牠天拉母燈步掃采她送爪。細雲真枝放游一法壯沒昌平成扒害片火旁、植兩巾草，古歡科澡小字者力快見習錯陽美節。正免牙固從旁買晚鼻教心元丁視童得？送不半祖葉因哥成京姊火戶，兔刀下鼻主土者出王東木各知！品光第，洋土跟筆。鴨十屋裝風棵。停室秋象的父長葉亮虎園草卜次貫民，夕哥文七、和七百未消止占支經具。着抄抓占；後房右蝶忍金乙。詞止生害唱玩躲錯汁細念原由後葉或豆幼玩！還下第步條勿里吉，日生松至澡誰吉連飛成太。門何打雲兌竹尺母鳥寺竹話黑，她道免古吧穴米至清海色胡、許秋坐品火師松開人就奶送幼馬完起畫火！四雄欠完重得好蝴合過跳回免巴連書九蛋友央，對條文日細黑\",cut_all=True)\n",
    "print(\" \".join(seg))\n",
    "              "
   ]
  },
  {
   "cell_type": "code",
   "execution_count": null,
   "id": "0b7bcb43",
   "metadata": {},
   "outputs": [],
   "source": []
  },
  {
   "cell_type": "code",
   "execution_count": null,
   "id": "5178174e",
   "metadata": {},
   "outputs": [],
   "source": [
    "#BASIC TEXT PROCESSING PIPELINE\n",
    "import nltk\n",
    "sent =\"Become an expert in NLP\"\n",
    "words=nltk.word_tokenize(sent)\n",
    "print(words)"
   ]
  },
  {
   "cell_type": "code",
   "execution_count": null,
   "id": "b2c30538",
   "metadata": {},
   "outputs": [],
   "source": [
    "import nltk\n",
    "texts=\"LinkedIn is an American business and employment-oriented online service that operates via websites and mobile apps. Launched on May 5, 2003,[5] the platform is primarily used for professional networking and career development, and allows job seekers to post their CVs and employers to post jobs. From 2015 most of the company's revenue came from selling access to information about its members to recruiters and sales professionals.[6] Since December 2016, it has been a wholly owned subsidiary of Microsoft. As of February 2022, LinkedIn has 830+ million registered members from over 200 countries and territoriesLinkedIn (/lɪŋktˈɪn/) is an American business and employment-oriented online service that operates via websites and mobile apps. Launched on May 5, 2003,[5] the platform is primarily used for professional networking and career development, and allows job seekers to post their CVs and employers to post jobs. From 2015 most of the company's revenue came from selling access to information about its members to recruiters and sales professionals.[6] Since December 2016, it has been a wholly owned subsidiary of Microsoft. As of February 2022, LinkedIn has 830+ million registered members from over 200 countries and territories\"\n",
    "for text in texts:\n",
    "    sentences=nltk.sent_tokenize(text)\n",
    "    for sentence in sentences:\n",
    "        words=nltk.word_tokenize(sentence)\n",
    "        print(words)\n",
    "        tagged=nltk.pos_tag(words)\n",
    "        print(tagged)"
   ]
  },
  {
   "cell_type": "code",
   "execution_count": null,
   "id": "1db03462",
   "metadata": {},
   "outputs": [],
   "source": []
  },
  {
   "cell_type": "code",
   "execution_count": null,
   "id": "0e1e060d",
   "metadata": {},
   "outputs": [],
   "source": []
  },
  {
   "cell_type": "code",
   "execution_count": null,
   "id": "6b6214a1",
   "metadata": {},
   "outputs": [],
   "source": []
  },
  {
   "cell_type": "code",
   "execution_count": null,
   "id": "3435c7d4",
   "metadata": {},
   "outputs": [],
   "source": []
  }
 ],
 "metadata": {
  "kernelspec": {
   "display_name": "Python 3 (ipykernel)",
   "language": "python",
   "name": "python3"
  },
  "language_info": {
   "codemirror_mode": {
    "name": "ipython",
    "version": 3
   },
   "file_extension": ".py",
   "mimetype": "text/x-python",
   "name": "python",
   "nbconvert_exporter": "python",
   "pygments_lexer": "ipython3",
   "version": "3.9.12"
  }
 },
 "nbformat": 4,
 "nbformat_minor": 5
}
