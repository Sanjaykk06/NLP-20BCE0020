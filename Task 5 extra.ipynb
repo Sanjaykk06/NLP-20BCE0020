{
 "cells": [
  {
   "cell_type": "code",
   "execution_count": null,
   "id": "82f3aea7",
   "metadata": {},
   "outputs": [],
   "source": [
    "#20BCE0020 SANJAY K"
   ]
  },
  {
   "cell_type": "code",
   "execution_count": 1,
   "id": "5944a0d9",
   "metadata": {},
   "outputs": [],
   "source": [
    "from sklearn.feature_extraction.text import CountVectorizer\n",
    "vect = CountVectorizer(binary=True)"
   ]
  },
  {
   "cell_type": "code",
   "execution_count": null,
   "id": "a2758066",
   "metadata": {},
   "outputs": [],
   "source": [
    "#creating a corpus with a full article of the author"
   ]
  },
  {
   "cell_type": "code",
   "execution_count": 2,
   "id": "d051ad32",
   "metadata": {},
   "outputs": [],
   "source": [
    "corpus=[\"If there is a phrase I would prefer to retire from online bios, personal or professional, it is, “I love travel.” Or some approximation of that sentiment. To clarify, I am not against travellers or those who proudly flaunt their passion for travel. On the contrary, editing a travel magazine has now made me oddly protective of travellers and their ilk. My submission is that “love to travel,” suggested so casually, just doesn’t feel adequate to the depth of emotion it sparks in true devotees.In February, the month of love as endowed by our great gifting industrial complex, we are wrestling with what “love for travel” means in tangible, life-affecting terms. The early throes of discovering travel might not be too dissimilar to the beginnings of a feverish affair. A fleeting scene, sound or feeling that at first arouses, then enchants and eventually, lures us into a hypnotic state, evoking woolly-eyed reveries about what could be.This world, however, is not the most conducive for long-term passion, the kind that demands unflinching sustenance in the midst of distractions from a thousand notifications. Passion has many rivals to contend with. And in flippantly announcing travel as our first love, we are not fully considering the influence our other paramours (work, relationships or money) exert on us. Travellers for life are compulsive. They have to be; there is no other existence. Climate change, marriages, deaths, protests and politics might have to take a backseat. I am reminded of a wanderlust-happy couple that discovered chinks in their relationship during a road trip through Russia. The woman, upset and distraught, offered a solution: cut the trip short to come back home and rekindle their chemistry. The man, however, wouldn’t give up Siberia, despite a chance at a do-over. Please don’t go getting any ideas about breaking hearts but for some travellers, marital bliss too has its limits. In finding stories about travel as a lifetime affair, we looked for longevity. We chose accounts of love, which tempered by the prospect of actually living, may have assumed a subdued tenor. But it only took a remembrance or flicker to fan the ardour all over again. One budding artist writes of her admiration for Frida Kahlo, and a Frida-inspired pilgrimage to Mexico. One of our own staffers takes a mental journey back to the cities and countries that have bookmarked her blossoming long-distance affection while a mountaineer outlines why the solitude of the Himalayas will never fail to captivate her. Falling in love with travel is much like falling in love with a song. You wear it out until it makes you sick. But you have to be foolish and always full of song.\"]"
   ]
  },
  {
   "cell_type": "code",
   "execution_count": 3,
   "id": "5102648e",
   "metadata": {},
   "outputs": [
    {
     "data": {
      "text/plain": [
       "CountVectorizer(binary=True)"
      ]
     },
     "execution_count": 3,
     "metadata": {},
     "output_type": "execute_result"
    }
   ],
   "source": [
    "vect.fit(corpus)"
   ]
  },
  {
   "cell_type": "code",
   "execution_count": 4,
   "id": "6ca406a2",
   "metadata": {},
   "outputs": [],
   "source": [
    "vocab= vect.vocabulary_"
   ]
  },
  {
   "cell_type": "code",
   "execution_count": null,
   "id": "63ce23fb",
   "metadata": {},
   "outputs": [],
   "source": [
    "#comparing the first paragraph from four different article of the nat geo traveller and comparing it"
   ]
  },
  {
   "cell_type": "code",
   "execution_count": 8,
   "id": "8ea2023d",
   "metadata": {},
   "outputs": [
    {
     "name": "stdout",
     "output_type": "stream",
     "text": [
      "[[0.26315789]]\n"
     ]
    }
   ],
   "source": [
    "from sklearn.metrics.pairwise import cosine_similarity\n",
    "print(cosine_similarity(vect.transform([\"Leaning out from a bridge leading into Wat Rong Khun, I squint at a stucco moat of outstretched hands and grisly skeletons. Two massive horns arch over the walkway, while a few steps ahead, giant statues of Death and Rahu guard the entrance, like burly bouncers poised to restrict my entry into heaven. “The bridge of rebirth,” I overhear a foreign couple talking. A swampland of desire—enslaved arms—lie in wait blocking a mortal’s road to nirvana. This was rebirth as an infernal spectre, not Elton John’s PG-13 “Circle of Life.”\"]).toarray(),vect.transform([\"In a bid to ease paperwork for millions of tourists, the EU has proposed to make the Schengen visa process an online application system in the next few years. The Schengen visa allows travellers to visit and travel across 26 EU member nations for up to 90 days. Right now, tourists submit their visa application to a country’s local consulate and collect their passports in person once the visa is issued—a time-consuming process which became complicated during the last two years of the pandemic. The new proposal envisions a single digital visa application platform for all EU countries. Instead of a physical sticker, the visa is expected to be a cryptographically signed 2D bar code.\"]).toarray()))"
   ]
  },
  {
   "cell_type": "code",
   "execution_count": 10,
   "id": "69a776fc",
   "metadata": {},
   "outputs": [
    {
     "name": "stdout",
     "output_type": "stream",
     "text": [
      "[[0.43822991]]\n"
     ]
    }
   ],
   "source": [
    "from sklearn.metrics.pairwise import cosine_similarity\n",
    "print(cosine_similarity(vect.transform([\"After a tiring snorkelling session in the clear waters of Koh Phangan, instructors Captain Pumpui and Captain Poo are shepherding me and five others on a private speedboat to nearby Bottle Beach for a picnic lunch of sandwiches, macarons and fruit juices. I am about 10-12 kilometres from Belmond Napasai’s lush tropical resort in Koh Samui, my home for the last day-and-a-half, and the sun is blindingly bright overhead. This is ideal snorkelling weather; we have had a field day gasping at eels and corals underwater. But the heat has stymied chatter on our boat.\"]).toarray(),vect.transform([\"The world’s greatest cities are brutal, unsentimental places, precisely the reason why so many of us fall so irrevocably under their spell. In its worst hour, this bond can curdle into bitter complaints of unrequited affection and everyday torment. “The subway doesn’t work, trash is overflowing and it’s too crowded; this is over.” Let me assure you that right now someone somewhere is uttering these words about your dream metropolis, New York, Rome, Rio De Janeiro. Like an unrepentant cad, the city laughs in their face, “Go on… live without me.” Wresting long-term connections comes with the occasional pang of nostalgic regret. Those who can’t escape their love of cities are destined to keep replaying that first flush of romance, that moment when a city went from a destination to home.\"]).toarray()))"
   ]
  },
  {
   "cell_type": "code",
   "execution_count": null,
   "id": "a3b2a2dd",
   "metadata": {},
   "outputs": [],
   "source": []
  }
 ],
 "metadata": {
  "kernelspec": {
   "display_name": "Python 3 (ipykernel)",
   "language": "python",
   "name": "python3"
  },
  "language_info": {
   "codemirror_mode": {
    "name": "ipython",
    "version": 3
   },
   "file_extension": ".py",
   "mimetype": "text/x-python",
   "name": "python",
   "nbconvert_exporter": "python",
   "pygments_lexer": "ipython3",
   "version": "3.9.12"
  }
 },
 "nbformat": 4,
 "nbformat_minor": 5
}
